{
 "cells": [
  {
   "cell_type": "markdown",
   "metadata": {},
   "source": [
    "# Evaluate Agents"
   ]
  },
  {
   "cell_type": "code",
   "execution_count": null,
   "metadata": {},
   "outputs": [],
   "source": [
    "import os\n",
    "import warnings\n",
    "\n",
    "import numpy as np\n",
    "import pandas as pd\n",
    "import matplotlib.pyplot as plt\n",
    "import seaborn as sns\n",
    "\n",
    "from stable_baselines3 import DQN, DDPG\n",
    "\n",
    "from alphaQ.utils import download_ticker_data, train_test_split, plot_episodes, sharpe, save_to_s3, load_from_s3\n",
    "from alphaQ.env import PortfolioEnv\n",
    "from alphaQ.agent.features import FeatureExtractor\n",
    "from alphaQ.agent.callbacks import EvalCallback\n",
    "from alphaQ.agent.utils import AgentStrategy, load_model, display_attributes\n",
    "from alphaQ.eval import evalu8, evaluate_baselines\n",
    "\n",
    "import config\n",
    "from config import TICKERS, MODELS, MODEL_PARAMS\n",
    "\n",
    "warnings.filterwarnings('ignore')\n",
    "\n",
    "rcParams = {\n",
    "    'xtick.labelsize': 12,\n",
    "    'ytick.labelsize': 12,\n",
    "    'figure.figsize': (18, 9),\n",
    "    'legend.fontsize': 13,\n",
    "    'axes.labelsize': 14\n",
    "}\n",
    "plt.rcParams.update(rcParams)"
   ]
  },
  {
   "cell_type": "code",
   "execution_count": null,
   "metadata": {},
   "outputs": [],
   "source": [
    "# Load ticker and market data, split into train, validation and test sets\n",
    "esg_key = 'tradeGPT/prices/esg.pkl'\n",
    "market_key = 'tradeGPT/prices/market.pkl'  # SPY\n",
    "\n",
    "tickers = [\"MSFT\", \"NVDA\", \"GOOGL\", \"LLY\"]  # MSCI USA ESG Leaders Index (USD)\n",
    "\n",
    "if False:\n",
    "    data = download_ticker_data(tickers, start=config.START, end=config.END, columns=['Open', 'High', 'Low', 'Close']).dropna()\n",
    "    save_to_s3(data, esg_key)\n",
    "    market = download_ticker_data('SPY', start=config.START, end=config.END, columns=['Adj Close']).loc[data.index]\n",
    "    save_to_s3(market, market_key)\n",
    "else:\n",
    "    data = load_from_s3(esg_key)\n",
    "    market = load_from_s3(market_key)\n",
    "\n",
    "train, val, test = train_test_split(data, train_years=12)\n",
    "market_train, market_val, market_test = train_test_split(market, train_years=12)"
   ]
  },
  {
   "cell_type": "code",
   "execution_count": null,
   "metadata": {},
   "outputs": [],
   "source": [
    "agents = []\n",
    "model = 'dqn'  # 'ddpg'  "
   ]
  },
  {
   "cell_type": "code",
   "execution_count": null,
   "metadata": {},
   "outputs": [],
   "source": [
    "agent_strategies = []\n",
    "agents.append((model, MODELS[model].load(\"models/esg_dqn_low_lr/best_model.zip\")))\n",
    "\n",
    "# for all loaded agents\n",
    "for model, agent in agents:\n",
    "    \n",
    "    # determing action space type\n",
    "    action_space_type = config.ACTION_SPACE[model]\n",
    "\n",
    "    # set up test environment\n",
    "    test_env = PortfolioEnv(\n",
    "        tickers=TICKERS,\n",
    "        prices=test, \n",
    "        market_prices=market_test,\n",
    "        window_length=config.WINDOW_LENGTH,\n",
    "        trading_cost=config.COMMISSION_RATE,\n",
    "        action_space_type=action_space_type,\n",
    "#         render_mode='test'\n",
    "    )\n",
    "    \n",
    "    print(model)\n",
    "    # evaluate agent on test environment and plot results\n",
    "    evalu8(agent, test_env)\n",
    "    \n",
    "    # display agent attributes\n",
    "    display_attributes(agent, test_env.observation_space)    \n",
    "\n",
    "    # wrap agent weights in universal portfolios interface for comparison\n",
    "    strategy = AgentStrategy(test_env.record.actions, name=model.upper())\n",
    "    agent_strategies.append(strategy)"
   ]
  },
  {
   "cell_type": "code",
   "execution_count": null,
   "metadata": {},
   "outputs": [],
   "source": [
    "results, metrics = evaluate_baselines(test, custom_strategies=agent_strategies, market_data={'DJIA': market_test}, attributes=None)\n",
    "metrics"
   ]
  }
 ],
 "metadata": {
  "interpreter": {
   "hash": "20acc1d85ed4341021c93850c725098f352660f3df6a3b59dcdfe94746c44c08"
  },
  "kernelspec": {
   "display_name": "Python 3.7.17 64-bit ('.venv': venv)",
   "language": "python",
   "name": "python3"
  },
  "language_info": {
   "codemirror_mode": {
    "name": "ipython",
    "version": 3
   },
   "file_extension": ".py",
   "mimetype": "text/x-python",
   "name": "python",
   "nbconvert_exporter": "python",
   "pygments_lexer": "ipython3",
   "version": "3.7.17"
  }
 },
 "nbformat": 4,
 "nbformat_minor": 2
}
